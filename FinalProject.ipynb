{
 "cells": [
  {
   "cell_type": "code",
   "execution_count": 1,
   "metadata": {
    "collapsed": false
   },
   "outputs": [
    {
     "name": "stderr",
     "output_type": "stream",
     "text": [
      "/anaconda/lib/python3.6/site-packages/sklearn/cross_validation.py:44: DeprecationWarning: This module was deprecated in version 0.18 in favor of the model_selection module into which all the refactored classes and functions are moved. Also note that the interface of the new CV iterators are different from that of this module. This module will be removed in 0.20.\n",
      "  \"This module will be removed in 0.20.\", DeprecationWarning)\n"
     ]
    }
   ],
   "source": [
    "import numpy as np\n",
    "import pandas as pd\n",
    "import matplotlib.pylab as plt\n",
    "import statsmodels.formula.api as smf\n",
    "from sklearn import linear_model, datasets\n",
    "from sklearn.metrics import confusion_matrix\n",
    "from sklearn.model_selection import KFold\n",
    "from sklearn.utils import resample\n",
    "from sklearn import cross_validation as cv\n",
    "from sklearn.preprocessing import Imputer\n",
    "from sklearn.decomposition import PCA\n",
    "from tabulate import tabulate\n",
    "from sklearn.base import TransformerMixin"
   ]
  },
  {
   "cell_type": "code",
   "execution_count": 2,
   "metadata": {
    "collapsed": true
   },
   "outputs": [],
   "source": [
    "from IPython.core.debugger import Tracer; debug_here = Tracer()\n",
    "#debug_here()"
   ]
  },
  {
   "cell_type": "code",
   "execution_count": 3,
   "metadata": {
    "collapsed": false,
    "scrolled": true
   },
   "outputs": [
    {
     "name": "stdout",
     "output_type": "stream",
     "text": [
      "(858, 36)\n"
     ]
    }
   ],
   "source": [
    "df = pd.read_csv('risk_factors_cervical_cancer.csv')\n",
    "# df.head()\n",
    "print(df.shape)"
   ]
  },
  {
   "cell_type": "code",
   "execution_count": 4,
   "metadata": {
    "collapsed": false
   },
   "outputs": [
    {
     "data": {
      "text/html": [
       "<div>\n",
       "<table border=\"1\" class=\"dataframe\">\n",
       "  <thead>\n",
       "    <tr style=\"text-align: right;\">\n",
       "      <th></th>\n",
       "      <th>Age</th>\n",
       "      <th>Number_of_sexual_partners</th>\n",
       "      <th>First_sexual_intercourse</th>\n",
       "      <th>Num_of_pregnancies</th>\n",
       "      <th>Smokes</th>\n",
       "      <th>Smokes_years</th>\n",
       "      <th>Smokes_packsPeryear</th>\n",
       "      <th>Hormonal_Contraceptives</th>\n",
       "      <th>Hormonal_Contraceptives_years</th>\n",
       "      <th>IUD</th>\n",
       "      <th>...</th>\n",
       "      <th>STDs_Time_since_first_diagnosis</th>\n",
       "      <th>STDs_Time_since_last_diagnosis</th>\n",
       "      <th>DxCancer</th>\n",
       "      <th>DxCIN</th>\n",
       "      <th>DxHPV</th>\n",
       "      <th>Dx</th>\n",
       "      <th>Hinselmann</th>\n",
       "      <th>Schiller</th>\n",
       "      <th>Citology</th>\n",
       "      <th>Biopsy</th>\n",
       "    </tr>\n",
       "  </thead>\n",
       "  <tbody>\n",
       "    <tr>\n",
       "      <th>0</th>\n",
       "      <td>18</td>\n",
       "      <td>4.0</td>\n",
       "      <td>15.0</td>\n",
       "      <td>1.0</td>\n",
       "      <td>0.0</td>\n",
       "      <td>0.0</td>\n",
       "      <td>0.0</td>\n",
       "      <td>0.0</td>\n",
       "      <td>0.0</td>\n",
       "      <td>0.0</td>\n",
       "      <td>...</td>\n",
       "      <td>NaN</td>\n",
       "      <td>NaN</td>\n",
       "      <td>0</td>\n",
       "      <td>0</td>\n",
       "      <td>0</td>\n",
       "      <td>0</td>\n",
       "      <td>0</td>\n",
       "      <td>0</td>\n",
       "      <td>0</td>\n",
       "      <td>0</td>\n",
       "    </tr>\n",
       "    <tr>\n",
       "      <th>1</th>\n",
       "      <td>15</td>\n",
       "      <td>1.0</td>\n",
       "      <td>14.0</td>\n",
       "      <td>1.0</td>\n",
       "      <td>0.0</td>\n",
       "      <td>0.0</td>\n",
       "      <td>0.0</td>\n",
       "      <td>0.0</td>\n",
       "      <td>0.0</td>\n",
       "      <td>0.0</td>\n",
       "      <td>...</td>\n",
       "      <td>NaN</td>\n",
       "      <td>NaN</td>\n",
       "      <td>0</td>\n",
       "      <td>0</td>\n",
       "      <td>0</td>\n",
       "      <td>0</td>\n",
       "      <td>0</td>\n",
       "      <td>0</td>\n",
       "      <td>0</td>\n",
       "      <td>0</td>\n",
       "    </tr>\n",
       "    <tr>\n",
       "      <th>2</th>\n",
       "      <td>34</td>\n",
       "      <td>1.0</td>\n",
       "      <td>NaN</td>\n",
       "      <td>1.0</td>\n",
       "      <td>0.0</td>\n",
       "      <td>0.0</td>\n",
       "      <td>0.0</td>\n",
       "      <td>0.0</td>\n",
       "      <td>0.0</td>\n",
       "      <td>0.0</td>\n",
       "      <td>...</td>\n",
       "      <td>NaN</td>\n",
       "      <td>NaN</td>\n",
       "      <td>0</td>\n",
       "      <td>0</td>\n",
       "      <td>0</td>\n",
       "      <td>0</td>\n",
       "      <td>0</td>\n",
       "      <td>0</td>\n",
       "      <td>0</td>\n",
       "      <td>0</td>\n",
       "    </tr>\n",
       "    <tr>\n",
       "      <th>3</th>\n",
       "      <td>52</td>\n",
       "      <td>5.0</td>\n",
       "      <td>16.0</td>\n",
       "      <td>4.0</td>\n",
       "      <td>1.0</td>\n",
       "      <td>37.0</td>\n",
       "      <td>37.0</td>\n",
       "      <td>1.0</td>\n",
       "      <td>3.0</td>\n",
       "      <td>0.0</td>\n",
       "      <td>...</td>\n",
       "      <td>NaN</td>\n",
       "      <td>NaN</td>\n",
       "      <td>1</td>\n",
       "      <td>0</td>\n",
       "      <td>1</td>\n",
       "      <td>0</td>\n",
       "      <td>0</td>\n",
       "      <td>0</td>\n",
       "      <td>0</td>\n",
       "      <td>0</td>\n",
       "    </tr>\n",
       "    <tr>\n",
       "      <th>4</th>\n",
       "      <td>46</td>\n",
       "      <td>3.0</td>\n",
       "      <td>21.0</td>\n",
       "      <td>4.0</td>\n",
       "      <td>0.0</td>\n",
       "      <td>0.0</td>\n",
       "      <td>0.0</td>\n",
       "      <td>1.0</td>\n",
       "      <td>15.0</td>\n",
       "      <td>0.0</td>\n",
       "      <td>...</td>\n",
       "      <td>NaN</td>\n",
       "      <td>NaN</td>\n",
       "      <td>0</td>\n",
       "      <td>0</td>\n",
       "      <td>0</td>\n",
       "      <td>0</td>\n",
       "      <td>0</td>\n",
       "      <td>0</td>\n",
       "      <td>0</td>\n",
       "      <td>0</td>\n",
       "    </tr>\n",
       "  </tbody>\n",
       "</table>\n",
       "<p>5 rows × 36 columns</p>\n",
       "</div>"
      ],
      "text/plain": [
       "   Age  Number_of_sexual_partners  First_sexual_intercourse  \\\n",
       "0   18                        4.0                      15.0   \n",
       "1   15                        1.0                      14.0   \n",
       "2   34                        1.0                       NaN   \n",
       "3   52                        5.0                      16.0   \n",
       "4   46                        3.0                      21.0   \n",
       "\n",
       "   Num_of_pregnancies  Smokes  Smokes_years  Smokes_packsPeryear  \\\n",
       "0                 1.0     0.0           0.0                  0.0   \n",
       "1                 1.0     0.0           0.0                  0.0   \n",
       "2                 1.0     0.0           0.0                  0.0   \n",
       "3                 4.0     1.0          37.0                 37.0   \n",
       "4                 4.0     0.0           0.0                  0.0   \n",
       "\n",
       "   Hormonal_Contraceptives  Hormonal_Contraceptives_years  IUD   ...    \\\n",
       "0                      0.0                            0.0  0.0   ...     \n",
       "1                      0.0                            0.0  0.0   ...     \n",
       "2                      0.0                            0.0  0.0   ...     \n",
       "3                      1.0                            3.0  0.0   ...     \n",
       "4                      1.0                           15.0  0.0   ...     \n",
       "\n",
       "   STDs_Time_since_first_diagnosis  STDs_Time_since_last_diagnosis  DxCancer  \\\n",
       "0                              NaN                             NaN         0   \n",
       "1                              NaN                             NaN         0   \n",
       "2                              NaN                             NaN         0   \n",
       "3                              NaN                             NaN         1   \n",
       "4                              NaN                             NaN         0   \n",
       "\n",
       "   DxCIN  DxHPV  Dx  Hinselmann  Schiller  Citology  Biopsy  \n",
       "0      0      0   0           0         0         0       0  \n",
       "1      0      0   0           0         0         0       0  \n",
       "2      0      0   0           0         0         0       0  \n",
       "3      0      1   0           0         0         0       0  \n",
       "4      0      0   0           0         0         0       0  \n",
       "\n",
       "[5 rows x 36 columns]"
      ]
     },
     "execution_count": 4,
     "metadata": {},
     "output_type": "execute_result"
    }
   ],
   "source": [
    "df.columns = df.columns.str.replace('\\s+', '_')\n",
    "df.columns = df.columns.str.replace(':', '')\n",
    "df.columns = df.columns.str.replace('(', '')\n",
    "df.columns = df.columns.str.replace(')', '')\n",
    "df.columns = df.columns.str.replace('/', 'Per')\n",
    "df.columns = df.columns.str.replace('-', 'min')\n",
    "\n",
    "df=df.replace(\"?\", np.NaN)\n",
    "df.head()"
   ]
  },
  {
   "cell_type": "code",
   "execution_count": 5,
   "metadata": {
    "collapsed": false
   },
   "outputs": [
    {
     "data": {
      "text/plain": [
       "Age                                      0\n",
       "Number_of_sexual_partners               26\n",
       "First_sexual_intercourse                 7\n",
       "Num_of_pregnancies                      56\n",
       "Smokes                                  13\n",
       "Smokes_years                            13\n",
       "Smokes_packsPeryear                     13\n",
       "Hormonal_Contraceptives                108\n",
       "Hormonal_Contraceptives_years          108\n",
       "IUD                                    117\n",
       "IUD_years                              117\n",
       "STDs                                   105\n",
       "STDs_number                            105\n",
       "STDscondylomatosis                     105\n",
       "STDscervical_condylomatosis            105\n",
       "STDsvaginal_condylomatosis             105\n",
       "STDsvulvominperineal_condylomatosis    105\n",
       "STDssyphilis                           105\n",
       "STDspelvic_inflammatory_disease        105\n",
       "STDsgenital_herpes                     105\n",
       "STDsmolluscum_contagiosum              105\n",
       "STDsAIDS                               105\n",
       "STDsHIV                                105\n",
       "STDsHepatitis_B                        105\n",
       "STDsHPV                                105\n",
       "STDs_Number_of_diagnosis                 0\n",
       "STDs_Time_since_first_diagnosis        787\n",
       "STDs_Time_since_last_diagnosis         787\n",
       "DxCancer                                 0\n",
       "DxCIN                                    0\n",
       "DxHPV                                    0\n",
       "Dx                                       0\n",
       "Hinselmann                               0\n",
       "Schiller                                 0\n",
       "Citology                                 0\n",
       "Biopsy                                   0\n",
       "dtype: int64"
      ]
     },
     "execution_count": 5,
     "metadata": {},
     "output_type": "execute_result"
    }
   ],
   "source": [
    "df.isnull().sum()"
   ]
  },
  {
   "cell_type": "markdown",
   "metadata": {},
   "source": [
    "Since time since STD diagnoses features have too much missing data, we will delete these features altogether. We will drop 'STDs_Time_since_first_diagnosis' and 'STDs_Time_since_last_diagnosis'."
   ]
  },
  {
   "cell_type": "code",
   "execution_count": 6,
   "metadata": {
    "collapsed": false
   },
   "outputs": [
    {
     "name": "stdout",
     "output_type": "stream",
     "text": [
      "0.0\n",
      "44\n",
      "74\n",
      "0.0\n"
     ]
    }
   ],
   "source": [
    "print(df['STDsAIDS'].sum())\n",
    "print(df['Citology'].sum())\n",
    "print(df['Schiller'].sum())\n",
    "print(df['STDscervical_condylomatosis'].sum())"
   ]
  },
  {
   "cell_type": "code",
   "execution_count": 7,
   "metadata": {
    "collapsed": false
   },
   "outputs": [
    {
     "name": "stdout",
     "output_type": "stream",
     "text": [
      "13\n",
      "Index(['Age', 'Number_of_sexual_partners', 'First_sexual_intercourse',\n",
      "       'Num_of_pregnancies', 'Smokes', 'Smokes_years', 'Smokes_packsPeryear',\n",
      "       'STDs_Number_of_diagnosis', 'DxCancer', 'DxCIN', 'DxHPV', 'Dx',\n",
      "       'Biopsy'],\n",
      "      dtype='object')\n"
     ]
    }
   ],
   "source": [
    "df.drop('STDs_Time_since_last_diagnosis', 1, inplace=True)\n",
    "df.drop('STDs_Time_since_first_diagnosis', 1, inplace=True)\n",
    "\n",
    "# drop columns with sum=0\n",
    "df.drop('STDscervical_condylomatosis', 1, inplace=True)\n",
    "df.drop('STDsAIDS', 1, inplace=True)\n",
    "\n",
    "\n",
    "df.drop('Citology', 1, inplace=True)\n",
    "df.drop('Schiller', 1, inplace=True)\n",
    "df.drop('Hinselmann', 1, inplace=True)\n",
    "\n",
    "df.dropna(axis=1, thresh=800, inplace=True)\n",
    "\n",
    "\n",
    "print(len(df.columns))\n",
    "print(df.columns)"
   ]
  },
  {
   "cell_type": "code",
   "execution_count": 8,
   "metadata": {
    "collapsed": false
   },
   "outputs": [
    {
     "data": {
      "text/plain": [
       "(858, 13)"
      ]
     },
     "execution_count": 8,
     "metadata": {},
     "output_type": "execute_result"
    }
   ],
   "source": [
    "df.dropna(how='all', inplace=True) #drop rows where all columns are NaN\n",
    "df.shape"
   ]
  },
  {
   "cell_type": "markdown",
   "metadata": {},
   "source": [
    "Impute missing values using mean imputation"
   ]
  },
  {
   "cell_type": "code",
   "execution_count": 9,
   "metadata": {
    "collapsed": false
   },
   "outputs": [
    {
     "data": {
      "text/html": [
       "<div>\n",
       "<table border=\"1\" class=\"dataframe\">\n",
       "  <thead>\n",
       "    <tr style=\"text-align: right;\">\n",
       "      <th></th>\n",
       "      <th>Age</th>\n",
       "      <th>Number_of_sexual_partners</th>\n",
       "      <th>First_sexual_intercourse</th>\n",
       "      <th>Num_of_pregnancies</th>\n",
       "      <th>Smokes</th>\n",
       "      <th>Smokes_years</th>\n",
       "      <th>Smokes_packsPeryear</th>\n",
       "      <th>STDs_Number_of_diagnosis</th>\n",
       "      <th>DxCancer</th>\n",
       "      <th>DxCIN</th>\n",
       "      <th>DxHPV</th>\n",
       "      <th>Dx</th>\n",
       "      <th>Biopsy</th>\n",
       "    </tr>\n",
       "  </thead>\n",
       "  <tbody>\n",
       "    <tr>\n",
       "      <th>0</th>\n",
       "      <td>18</td>\n",
       "      <td>4.0</td>\n",
       "      <td>15.0000</td>\n",
       "      <td>1.0</td>\n",
       "      <td>0.0</td>\n",
       "      <td>0.0</td>\n",
       "      <td>0.0</td>\n",
       "      <td>0</td>\n",
       "      <td>0</td>\n",
       "      <td>0</td>\n",
       "      <td>0</td>\n",
       "      <td>0</td>\n",
       "      <td>0</td>\n",
       "    </tr>\n",
       "    <tr>\n",
       "      <th>1</th>\n",
       "      <td>15</td>\n",
       "      <td>1.0</td>\n",
       "      <td>14.0000</td>\n",
       "      <td>1.0</td>\n",
       "      <td>0.0</td>\n",
       "      <td>0.0</td>\n",
       "      <td>0.0</td>\n",
       "      <td>0</td>\n",
       "      <td>0</td>\n",
       "      <td>0</td>\n",
       "      <td>0</td>\n",
       "      <td>0</td>\n",
       "      <td>0</td>\n",
       "    </tr>\n",
       "    <tr>\n",
       "      <th>2</th>\n",
       "      <td>34</td>\n",
       "      <td>1.0</td>\n",
       "      <td>16.9953</td>\n",
       "      <td>1.0</td>\n",
       "      <td>0.0</td>\n",
       "      <td>0.0</td>\n",
       "      <td>0.0</td>\n",
       "      <td>0</td>\n",
       "      <td>0</td>\n",
       "      <td>0</td>\n",
       "      <td>0</td>\n",
       "      <td>0</td>\n",
       "      <td>0</td>\n",
       "    </tr>\n",
       "    <tr>\n",
       "      <th>3</th>\n",
       "      <td>52</td>\n",
       "      <td>5.0</td>\n",
       "      <td>16.0000</td>\n",
       "      <td>4.0</td>\n",
       "      <td>1.0</td>\n",
       "      <td>37.0</td>\n",
       "      <td>37.0</td>\n",
       "      <td>0</td>\n",
       "      <td>1</td>\n",
       "      <td>0</td>\n",
       "      <td>1</td>\n",
       "      <td>0</td>\n",
       "      <td>0</td>\n",
       "    </tr>\n",
       "    <tr>\n",
       "      <th>4</th>\n",
       "      <td>46</td>\n",
       "      <td>3.0</td>\n",
       "      <td>21.0000</td>\n",
       "      <td>4.0</td>\n",
       "      <td>0.0</td>\n",
       "      <td>0.0</td>\n",
       "      <td>0.0</td>\n",
       "      <td>0</td>\n",
       "      <td>0</td>\n",
       "      <td>0</td>\n",
       "      <td>0</td>\n",
       "      <td>0</td>\n",
       "      <td>0</td>\n",
       "    </tr>\n",
       "  </tbody>\n",
       "</table>\n",
       "</div>"
      ],
      "text/plain": [
       "   Age  Number_of_sexual_partners  First_sexual_intercourse  \\\n",
       "0   18                        4.0                   15.0000   \n",
       "1   15                        1.0                   14.0000   \n",
       "2   34                        1.0                   16.9953   \n",
       "3   52                        5.0                   16.0000   \n",
       "4   46                        3.0                   21.0000   \n",
       "\n",
       "   Num_of_pregnancies  Smokes  Smokes_years  Smokes_packsPeryear  \\\n",
       "0                 1.0     0.0           0.0                  0.0   \n",
       "1                 1.0     0.0           0.0                  0.0   \n",
       "2                 1.0     0.0           0.0                  0.0   \n",
       "3                 4.0     1.0          37.0                 37.0   \n",
       "4                 4.0     0.0           0.0                  0.0   \n",
       "\n",
       "   STDs_Number_of_diagnosis  DxCancer  DxCIN  DxHPV  Dx  Biopsy  \n",
       "0                         0         0      0      0   0       0  \n",
       "1                         0         0      0      0   0       0  \n",
       "2                         0         0      0      0   0       0  \n",
       "3                         0         1      0      1   0       0  \n",
       "4                         0         0      0      0   0       0  "
      ]
     },
     "execution_count": 9,
     "metadata": {},
     "output_type": "execute_result"
    }
   ],
   "source": [
    "class DataFrameImputer(TransformerMixin):\n",
    "    def __init__(self):\n",
    "        imr = Imputer(missing_values='NaN', strategy='most_frequent', axis=0).fit(df) #calculate column means, most frequent strategy because best when dealing with categorical data\n",
    "        imputed_data = imr.transform(df.values)\n",
    "     \n",
    "    def fit(self, temp, y=None):\n",
    "        self.fill = pd.Series([temp[c].value_counts().index[0]\n",
    "            if temp[c].dtype == np.dtype('O') else temp[c].mean() for c in temp],\n",
    "            index = temp.columns)\n",
    "        \n",
    "        return self\n",
    "    \n",
    "    def transform(self, temp, y=None):\n",
    "        return temp.fillna(self.fill)\n",
    "\n",
    "temp = pd.DataFrame(df)\n",
    "temp_T = DataFrameImputer().fit_transform(temp)\n",
    "temp_T.head()"
   ]
  },
  {
   "cell_type": "code",
   "execution_count": 10,
   "metadata": {
    "collapsed": false,
    "scrolled": true
   },
   "outputs": [
    {
     "name": "stdout",
     "output_type": "stream",
     "text": [
      "Age                          0\n",
      "Number_of_sexual_partners    0\n",
      "First_sexual_intercourse     0\n",
      "Num_of_pregnancies           0\n",
      "Smokes                       0\n",
      "Smokes_years                 0\n",
      "Smokes_packsPeryear          0\n",
      "STDs_Number_of_diagnosis     0\n",
      "DxCancer                     0\n",
      "DxCIN                        0\n",
      "DxHPV                        0\n",
      "Dx                           0\n",
      "Biopsy                       0\n",
      "dtype: int64\n",
      "(858, 13)\n"
     ]
    }
   ],
   "source": [
    "df = temp_T\n",
    "# df.head()\n",
    "print(df.isnull().sum())\n",
    "print(df.shape)"
   ]
  },
  {
   "cell_type": "code",
   "execution_count": 11,
   "metadata": {
    "collapsed": false
   },
   "outputs": [
    {
     "data": {
      "text/plain": [
       "Age                          False\n",
       "Number_of_sexual_partners    False\n",
       "First_sexual_intercourse     False\n",
       "Num_of_pregnancies           False\n",
       "Smokes                       False\n",
       "Smokes_years                 False\n",
       "Smokes_packsPeryear          False\n",
       "STDs_Number_of_diagnosis     False\n",
       "DxCancer                     False\n",
       "DxCIN                        False\n",
       "DxHPV                        False\n",
       "Dx                           False\n",
       "Biopsy                       False\n",
       "Name: std, dtype: bool"
      ]
     },
     "execution_count": 11,
     "metadata": {},
     "output_type": "execute_result"
    }
   ],
   "source": [
    "# Find predictors where variance is 0\n",
    "\n",
    "new_df= df.describe()\n",
    "new_df.loc['std']==0"
   ]
  },
  {
   "cell_type": "markdown",
   "metadata": {},
   "source": [
    "# Forward Selection: Control Set"
   ]
  },
  {
   "cell_type": "code",
   "execution_count": 15,
   "metadata": {
    "collapsed": false
   },
   "outputs": [
    {
     "data": {
      "text/plain": [
       "['Age',\n",
       " 'Number_of_sexual_partners',\n",
       " 'First_sexual_intercourse',\n",
       " 'Num_of_pregnancies',\n",
       " 'Smokes',\n",
       " 'Smokes_years',\n",
       " 'Smokes_packsPeryear']"
      ]
     },
     "execution_count": 15,
     "metadata": {},
     "output_type": "execute_result"
    }
   ],
   "source": [
    "#Check which columns have 0 variance\n",
    "df1 = df.loc[df.loc[df.Biopsy==0].head(55).index]\n",
    "df2 = df.loc[df.loc[df.Biopsy==1].head(100).index]\n",
    "frames = [df1, df2]\n",
    "new_df = pd.concat(frames)\n",
    "\n",
    "x_cols = [col for col in new_df.columns if col not in ['Biopsy']]\n",
    "\n",
    "# for x_col in x_cols:\n",
    "#     print(new_df[x_col].var())\n",
    "\n",
    "new_df.drop('Dx', 1, inplace=True)\n",
    "new_df.drop('DxHPV', 1, inplace=True)\n",
    "new_df.drop('DxCIN', 1, inplace=True)\n",
    "new_df.drop('DxCancer', 1, inplace=True)\n",
    "new_df.drop('STDs_Number_of_diagnosis', 1, inplace=True)\n",
    "x_cols = [col for col in new_df.columns if col not in ['Biopsy']]\n",
    "x_cols"
   ]
  },
  {
   "cell_type": "code",
   "execution_count": 16,
   "metadata": {
    "collapsed": false
   },
   "outputs": [
    {
     "name": "stdout",
     "output_type": "stream",
     "text": [
      "Biopsy ~ 1 + Age + Smokes_years\n",
      "MSE for control:  0.168660625227\n",
      "Controlled Data: Forward Selection Confusion matrix: \n",
      " [[49  6]\n",
      " [15 40]]\n",
      "Sensitivity:  0.727272727273\n",
      "Specificity:  0.890909090909\n",
      "0.809090909091 \n",
      "\n",
      "   Accuracy           Analysis  Sensitivity  Specificity\n",
      "0  0.809091  Forward Selection     0.727273     0.890909 \n",
      "\n",
      "\n"
     ]
    },
    {
     "data": {
      "image/png": "[encoded data removed]",
      "text/plain": [
       "<matplotlib.figure.Figure at 0x111a4ba90>"
      ]
     },
     "metadata": {},
     "output_type": "display_data"
    }
   ],
   "source": [
    "#forward selection of controlled dataset\n",
    "import warnings\n",
    "def ignore_warning():\n",
    "    warnings.warn('ignoring warning')\n",
    "\n",
    "    \n",
    "control = []\n",
    "\n",
    "# x_cols = [col for col in new_df.columns if col not in ['Biopsy']]\n",
    "final = []\n",
    "kf = KFold(n_splits=10, shuffle=True)\n",
    "new_df[x_cols]\n",
    "formula = 'Biopsy ~ 1'\n",
    "for i in range(len(x_cols)):\n",
    "    mse_info = []\n",
    "    \n",
    "    for x_col in x_cols:\n",
    "        formula_try = (formula + ' + ' + x_col)\n",
    "#         print(x_col)\n",
    "        res_logit = smf.logit(formula=formula_try, data=new_df).fit(disp=0)\n",
    "        \n",
    "        \n",
    "        y_pred = res_logit.predict(new_df)\n",
    "        y = new_df.Biopsy \n",
    "        diff = y_pred - y\n",
    "        mse = (np.dot(diff, diff))/len(diff)\n",
    "        \n",
    "        mse_info.append({'predictor': x_col,\n",
    "                        'MSE': mse})\n",
    "    \n",
    "    mse_info = pd.DataFrame(mse_info)\n",
    "    selected_col = mse_info.loc[mse_info.MSE.argmin(axis=0), 'predictor']\n",
    "    \n",
    "    formula = (formula + ' + ' + selected_col)\n",
    "    x_cols.remove(selected_col)\n",
    "    \n",
    "    train_info = []\n",
    "    test_info = []\n",
    "    for train_i, test_i in kf.split(new_df):\n",
    "        df_train = new_df.iloc[train_i, :]\n",
    "        df_test = new_df.iloc[test_i, :]\n",
    "        \n",
    "        res_logit = smf.logit(formula=formula, data=df_train).fit(disp=0)\n",
    "        \n",
    "        #Train MSE\n",
    "        y_pred = res_logit.predict(df_train)\n",
    "        y = df_train.Biopsy\n",
    "        diff = y_pred - y\n",
    "        train_mse = (np.dot(diff, diff))/len(diff)\n",
    "        \n",
    "        #Test MSE \n",
    "        y_pred = res_logit.predict(df_test)\n",
    "        y = df_test.Biopsy\n",
    "        diff = y_pred - y\n",
    "        test_mse = (np.dot(diff, diff)/len(diff))\n",
    "        \n",
    "        train_info.append(train_mse)\n",
    "        test_info.append(test_mse)\n",
    "        \n",
    "    train_mse = np.mean(train_info)\n",
    "    test_mse = np.mean(test_info)\n",
    "    final.append({'step': i,\n",
    "                 'formula': formula,\n",
    "                 'train_mse': train_mse,\n",
    "                 'test_mse': test_mse})\n",
    "\n",
    "final = pd.DataFrame(final)\n",
    "\n",
    "#find best formula\n",
    "final_formula_fwd = final.loc[final.test_mse.argmin(), 'formula']\n",
    "print(final_formula_fwd)\n",
    "print('MSE for control: ', final.loc[final.test_mse.argmin(), 'test_mse'])\n",
    "best_logit = smf.logit(formula=final_formula_fwd, data=new_df).fit(disp=0)\n",
    "\n",
    "#fit with new formula\n",
    "new_df.Biopsy_pred = best_logit.predict(new_df) \n",
    "new_df.Biopsy_pred_cat = pd.cut(new_df.Biopsy_pred, [0, .5, 1], labels = [0, 1])\n",
    "conf_mat = confusion_matrix(new_df.Biopsy, new_df.Biopsy_pred_cat)\n",
    "\n",
    "\n",
    "\n",
    "print('Controlled Data: Forward Selection Confusion matrix: \\n', conf_mat)\n",
    "fwd_sensitivity = conf_mat[1,1]/(conf_mat[1,0] + conf_mat[1,1])\n",
    "print('Sensitivity: ', fwd_sensitivity)\n",
    "fwd_specificity = conf_mat[0,0]/(conf_mat[0,0] + conf_mat[0,1])\n",
    "print('Specificity: ', fwd_specificity)\n",
    "fwd_accuracy = (conf_mat[0,0]+conf_mat[1,1])/(conf_mat[0,0]+conf_mat[0,1]+conf_mat[1,0]+conf_mat[1,1])\n",
    "control.append({'Analysis': 'Forward Selection',\n",
    "               'Sensitivity': fwd_sensitivity,\n",
    "               'Specificity': fwd_specificity,\n",
    "               'Accuracy': fwd_accuracy})\n",
    "\n",
    "print(fwd_accuracy, '\\n')\n",
    "\n",
    "\n",
    "\n",
    "\n",
    "df_control = pd.DataFrame(control)\n",
    "print(df_control, '\\n\\n')\n",
    "# print(\"success!!!\")\n",
    "\n",
    "\n",
    "\"\"\"\n",
    "ROC curve\n",
    "\"\"\"\n",
    "thresholds = np.arange(0, 1, 0.01)\n",
    "res_list = []\n",
    "fpr_list = []\n",
    "tpr_list = []\n",
    "\n",
    "for threshold in thresholds:\n",
    "    pred_cat = (best_logit.predict(new_df[['Age', 'Smokes_years',  'Smokes_packsPeryear']]) > threshold)*1\n",
    "    conf_mat = confusion_matrix(new_df.Biopsy, pred_cat)\n",
    "\n",
    "    specificity = conf_mat[0,0]/(conf_mat[0,0]+conf_mat[0,1])\n",
    "    sensitivity = conf_mat[1,1]/(conf_mat[1,0]+conf_mat[1,1])\n",
    "    fpr = 1 - specificity\n",
    "    tpr = sensitivity\n",
    "    trr = (conf_mat[1,0]+conf_mat[0,1])/(conf_mat[1,0]+conf_mat[0,0]+conf_mat[0,1]+conf_mat[1,1])\n",
    "    \n",
    "    res_list.append({'Threshold': threshold,\n",
    "                      'Specificity': specificity, \n",
    "                      'Sensitivity': sensitivity, \n",
    "                      'FPR': fpr,\n",
    "                      'TPR': tpr,\n",
    "                      'TRR': trr})\n",
    "    fpr_list.append(fpr)\n",
    "    tpr_list.append(tpr)\n",
    "\n",
    "df_res = pd.DataFrame(res_list)\n",
    "plt.plot(df_res.FPR, df_res.TPR)\n",
    "plt.xlabel('False Positive rate')\n",
    "plt.ylabel('True Positive Rate')\n",
    "plt.show()"
   ]
  },
  {
   "cell_type": "code",
   "execution_count": 200,
   "metadata": {
    "collapsed": true
   },
   "outputs": [],
   "source": [
    "fwd_acc_control = fwd_accuracy\n",
    "fwd_mse_control = final.loc[final.test_mse.argmin(), 'test_mse']\n",
    "fwd_sensitivity_control = fwd_sensitivity\n",
    "fwd_specificity_control = fwd_specificity"
   ]
  },
  {
   "cell_type": "code",
   "execution_count": 201,
   "metadata": {
    "collapsed": false
   },
   "outputs": [
    {
     "name": "stdout",
     "output_type": "stream",
     "text": [
      "Controlled Data: Forward Selection Confusion matrix: \n",
      " [[50  5]\n",
      " [15 40]]\n",
      "Sensitivity:  0.727272727273\n",
      "Specificity:  0.909090909091\n",
      "0.818181818182 \n",
      "\n",
      "   Accuracy           Analysis  Sensitivity  Specificity\n",
      "0  0.818182  Forward Selection     0.727273     0.909091\n"
     ]
    }
   ],
   "source": [
    "control = []\n",
    "\n",
    "#Forward Selection\n",
    "# results = smf.logit(formula=final_formula_fwd, data=df).fit(disp=0)\n",
    "df1 = df.loc[df.loc[df.Biopsy==0].head(55).index]\n",
    "df2 = df.loc[df.loc[df.Biopsy==1].head(55).index]\n",
    "frames = [df1, df2]\n",
    "new_df = pd.concat(frames)\n",
    "new_df2 = new_df\n",
    "\n",
    "\n",
    "results = smf.logit(formula=final_formula_fwd, data=new_df).fit(disp=0)\n",
    "\n",
    "new_df.Biopsy_pred = results.predict(new_df) #keep all biopsy==1 and 55 controls (biopsy==0)\n",
    "new_df.Biopsy_pred_cat = pd.cut(new_df.Biopsy_pred, [0, .5, 1], labels = [0, 1])\n",
    "conf_mat = confusion_matrix(new_df.Biopsy, new_df.Biopsy_pred_cat)\n",
    "\n",
    "print('Controlled Data: Forward Selection Confusion matrix: \\n', conf_mat)\n",
    "fwd_sensitivity = conf_mat[1,1]/(conf_mat[1,0] + conf_mat[1,1])\n",
    "print('Sensitivity: ', fwd_sensitivity)\n",
    "fwd_specificity = conf_mat[0,0]/(conf_mat[0,0] + conf_mat[0,1])\n",
    "print('Specificity: ', fwd_specificity)\n",
    "fwd_accuracy = (conf_mat[0,0]+conf_mat[1,1])/(conf_mat[0,0]+conf_mat[0,1]+conf_mat[1,0]+conf_mat[1,1])\n",
    "control.append({'Analysis': 'Forward Selection',\n",
    "               'Sensitivity': fwd_sensitivity,\n",
    "               'Specificity': fwd_specificity,\n",
    "               'Accuracy': fwd_accuracy})\n",
    "\n",
    "print(fwd_accuracy, '\\n')\n",
    "\n",
    "\n",
    "\n",
    "\n",
    "df_control = pd.DataFrame(control)\n",
    "print(df_control)"
   ]
  },
  {
   "cell_type": "markdown",
   "metadata": {},
   "source": [
    "# Forward selection: Whole dataset \n"
   ]
  },
  {
   "cell_type": "code",
   "execution_count": 151,
   "metadata": {
    "collapsed": false,
    "scrolled": true
   },
   "outputs": [
    {
     "data": {
      "text/html": [
       "<div>\n",
       "<table border=\"1\" class=\"dataframe\">\n",
       "  <thead>\n",
       "    <tr style=\"text-align: right;\">\n",
       "      <th></th>\n",
       "      <th>formula</th>\n",
       "      <th>step</th>\n",
       "      <th>test_mse</th>\n",
       "      <th>train_mse</th>\n",
       "    </tr>\n",
       "  </thead>\n",
       "  <tbody>\n",
       "    <tr>\n",
       "      <th>0</th>\n",
       "      <td>Biopsy ~ 1 + DxCancer</td>\n",
       "      <td>0</td>\n",
       "      <td>0.058850</td>\n",
       "      <td>0.058434</td>\n",
       "    </tr>\n",
       "    <tr>\n",
       "      <th>1</th>\n",
       "      <td>Biopsy ~ 1 + DxCancer + DxCIN</td>\n",
       "      <td>1</td>\n",
       "      <td>0.058662</td>\n",
       "      <td>0.057628</td>\n",
       "    </tr>\n",
       "    <tr>\n",
       "      <th>2</th>\n",
       "      <td>Biopsy ~ 1 + DxCancer + DxCIN + STDs_Number_of...</td>\n",
       "      <td>2</td>\n",
       "      <td>0.059118</td>\n",
       "      <td>0.057260</td>\n",
       "    </tr>\n",
       "    <tr>\n",
       "      <th>3</th>\n",
       "      <td>Biopsy ~ 1 + DxCancer + DxCIN + STDs_Number_of...</td>\n",
       "      <td>3</td>\n",
       "      <td>0.059933</td>\n",
       "      <td>0.057050</td>\n",
       "    </tr>\n",
       "    <tr>\n",
       "      <th>4</th>\n",
       "      <td>Biopsy ~ 1 + DxCancer + DxCIN + STDs_Number_of...</td>\n",
       "      <td>4</td>\n",
       "      <td>0.059126</td>\n",
       "      <td>0.056926</td>\n",
       "    </tr>\n",
       "    <tr>\n",
       "      <th>5</th>\n",
       "      <td>Biopsy ~ 1 + DxCancer + DxCIN + STDs_Number_of...</td>\n",
       "      <td>5</td>\n",
       "      <td>0.059187</td>\n",
       "      <td>0.056803</td>\n",
       "    </tr>\n",
       "    <tr>\n",
       "      <th>6</th>\n",
       "      <td>Biopsy ~ 1 + DxCancer + DxCIN + STDs_Number_of...</td>\n",
       "      <td>6</td>\n",
       "      <td>0.060512</td>\n",
       "      <td>0.056750</td>\n",
       "    </tr>\n",
       "    <tr>\n",
       "      <th>7</th>\n",
       "      <td>Biopsy ~ 1 + DxCancer + DxCIN + STDs_Number_of...</td>\n",
       "      <td>7</td>\n",
       "      <td>0.060690</td>\n",
       "      <td>0.056239</td>\n",
       "    </tr>\n",
       "    <tr>\n",
       "      <th>8</th>\n",
       "      <td>Biopsy ~ 1 + DxCancer + DxCIN + STDs_Number_of...</td>\n",
       "      <td>8</td>\n",
       "      <td>0.060317</td>\n",
       "      <td>0.056218</td>\n",
       "    </tr>\n",
       "    <tr>\n",
       "      <th>9</th>\n",
       "      <td>Biopsy ~ 1 + DxCancer + DxCIN + STDs_Number_of...</td>\n",
       "      <td>9</td>\n",
       "      <td>0.061446</td>\n",
       "      <td>0.056209</td>\n",
       "    </tr>\n",
       "    <tr>\n",
       "      <th>10</th>\n",
       "      <td>Biopsy ~ 1 + DxCancer + DxCIN + STDs_Number_of...</td>\n",
       "      <td>10</td>\n",
       "      <td>0.061439</td>\n",
       "      <td>0.056266</td>\n",
       "    </tr>\n",
       "    <tr>\n",
       "      <th>11</th>\n",
       "      <td>Biopsy ~ 1 + DxCancer + DxCIN + STDs_Number_of...</td>\n",
       "      <td>11</td>\n",
       "      <td>0.061430</td>\n",
       "      <td>0.056305</td>\n",
       "    </tr>\n",
       "  </tbody>\n",
       "</table>\n",
       "</div>"
      ],
      "text/plain": [
       "                                              formula  step  test_mse  \\\n",
       "0                               Biopsy ~ 1 + DxCancer     0  0.058850   \n",
       "1                       Biopsy ~ 1 + DxCancer + DxCIN     1  0.058662   \n",
       "2   Biopsy ~ 1 + DxCancer + DxCIN + STDs_Number_of...     2  0.059118   \n",
       "3   Biopsy ~ 1 + DxCancer + DxCIN + STDs_Number_of...     3  0.059933   \n",
       "4   Biopsy ~ 1 + DxCancer + DxCIN + STDs_Number_of...     4  0.059126   \n",
       "5   Biopsy ~ 1 + DxCancer + DxCIN + STDs_Number_of...     5  0.059187   \n",
       "6   Biopsy ~ 1 + DxCancer + DxCIN + STDs_Number_of...     6  0.060512   \n",
       "7   Biopsy ~ 1 + DxCancer + DxCIN + STDs_Number_of...     7  0.060690   \n",
       "8   Biopsy ~ 1 + DxCancer + DxCIN + STDs_Number_of...     8  0.060317   \n",
       "9   Biopsy ~ 1 + DxCancer + DxCIN + STDs_Number_of...     9  0.061446   \n",
       "10  Biopsy ~ 1 + DxCancer + DxCIN + STDs_Number_of...    10  0.061439   \n",
       "11  Biopsy ~ 1 + DxCancer + DxCIN + STDs_Number_of...    11  0.061430   \n",
       "\n",
       "    train_mse  \n",
       "0    0.058434  \n",
       "1    0.057628  \n",
       "2    0.057260  \n",
       "3    0.057050  \n",
       "4    0.056926  \n",
       "5    0.056803  \n",
       "6    0.056750  \n",
       "7    0.056239  \n",
       "8    0.056218  \n",
       "9    0.056209  \n",
       "10   0.056266  \n",
       "11   0.056305  "
      ]
     },
     "execution_count": 151,
     "metadata": {},
     "output_type": "execute_result"
    }
   ],
   "source": [
    "#forward-selection\n",
    "import warnings\n",
    "def ignore_warning():\n",
    "    warnings.warn('ignoring warning')\n",
    "\n",
    "warnings.filterwarnings(\"ignore\")\n",
    "ignore_warning()\n",
    "\n",
    "\n",
    "x_cols = [col for col in df.columns if col not in ['Biopsy']]\n",
    "final = []\n",
    "kf = KFold(n_splits=50, shuffle=True)\n",
    "\n",
    "formula = 'Biopsy ~ 1'\n",
    "for i in range(len(x_cols)):\n",
    "    mse_info = []\n",
    "    \n",
    "    for x_col in x_cols:\n",
    "        formula_try = (formula + ' + ' + x_col)\n",
    "#         print(x_col)\n",
    "        res_logit = smf.logit(formula=formula_try, data=df).fit(disp=0)\n",
    "        \n",
    "        \n",
    "        y_pred = res_logit.predict(df)\n",
    "        y = df.Biopsy \n",
    "        diff = y_pred - y\n",
    "        mse = (np.dot(diff, diff))/len(diff)\n",
    "        \n",
    "        mse_info.append({'predictor': x_col,\n",
    "                        'MSE': mse})\n",
    "    \n",
    "    mse_info = pd.DataFrame(mse_info)\n",
    "    selected_col = mse_info.loc[mse_info.MSE.argmin(axis=0), 'predictor']\n",
    "    \n",
    "    formula = (formula + ' + ' + selected_col)\n",
    "    x_cols.remove(selected_col)\n",
    "    \n",
    "    train_info = []\n",
    "    test_info = []\n",
    "    for train_i, test_i in kf.split(df):\n",
    "        df_train = df.iloc[train_i, :]\n",
    "        df_test = df.iloc[test_i, :]\n",
    "        \n",
    "        res_logit = smf.logit(formula=formula, data=df_train).fit(disp=0)\n",
    "        \n",
    "        #Train MSE\n",
    "        y_pred = res_logit.predict(df_train)\n",
    "        y = df_train.Biopsy\n",
    "        diff = y_pred - y\n",
    "        train_mse = (np.dot(diff, diff))/len(diff)\n",
    "        \n",
    "        #Test MSE \n",
    "        y_pred = res_logit.predict(df_test)\n",
    "        y = df_test.Biopsy\n",
    "        diff = y_pred - y\n",
    "        test_mse = (np.dot(diff, diff)/len(diff))\n",
    "        \n",
    "        train_info.append(train_mse)\n",
    "        test_info.append(test_mse)\n",
    "        \n",
    "    train_mse = np.mean(train_info)\n",
    "    test_mse = np.mean(test_info)\n",
    "    final.append({'step': i,\n",
    "                 'formula': formula,\n",
    "                 'train_mse': train_mse,\n",
    "                 'test_mse': test_mse})\n",
    "\n",
    "final = pd.DataFrame(final)\n",
    "final"
   ]
  },
  {
   "cell_type": "code",
   "execution_count": 152,
   "metadata": {
    "collapsed": false
   },
   "outputs": [
    {
     "data": {
      "image/png": "[encoded data removed]",
      "text/plain": [
       "<matplotlib.figure.Figure at 0x1156e9080>"
      ]
     },
     "metadata": {},
     "output_type": "display_data"
    }
   ],
   "source": [
    "plt.plot(final.step, final.test_mse, label='Test Set', c='blue')\n",
    "plt.plot(final.step, final.train_mse, label='Training Set', c='red')\n",
    "plt.xlabel('Step')\n",
    "plt.ylabel('MSE')\n",
    "plt.legend()\n",
    "plt.show()"
   ]
  },
  {
   "cell_type": "code",
   "execution_count": 153,
   "metadata": {
    "collapsed": false
   },
   "outputs": [
    {
     "name": "stdout",
     "output_type": "stream",
     "text": [
      "formula      Biopsy ~ 1 + DxCancer + DxCIN\n",
      "step                                     1\n",
      "test_mse                         0.0586621\n",
      "train_mse                        0.0576277\n",
      "Name: 1, dtype: object\n",
      "Biopsy ~ 1 + DxCancer + DxCIN\n"
     ]
    }
   ],
   "source": [
    "print(final.loc[final.test_mse.argmin()])\n",
    "final_formula_fwd = final.loc[final.test_mse.argmin(), 'formula']\n",
    "print(final_formula_fwd)"
   ]
  },
  {
   "cell_type": "code",
   "execution_count": 44,
   "metadata": {
    "collapsed": false
   },
   "outputs": [
    {
     "data": {
      "image/png": "[encoded data removed]",
      "text/plain": [
       "<matplotlib.figure.Figure at 0x1107cde10>"
      ]
     },
     "metadata": {},
     "output_type": "display_data"
    }
   ],
   "source": [
    "# ROC plot\n",
    "res_logit = smf.logit(formula=final_formula_fwd, data=df).fit(disp=0)\n",
    "thresholds = np.arange(0, 1, 0.01)\n",
    "res_list = []\n",
    "fpr_list = []\n",
    "tpr_list = []\n",
    "\n",
    "for threshold in thresholds:\n",
    "    \n",
    "    pred_cat = (res_logit.predict(df[['DxCancer', 'DxCIN', 'STDs_Number_of_diagnosis']]) > 1)*1\n",
    "    conf_mat = confusion_matrix(df.Biopsy, pred_cat)\n",
    "    \n",
    "    specificity = conf_mat[0,0]/(conf_mat[0,0]+conf_mat[0,1])\n",
    "    sensitivity = conf_mat[1,1]/(conf_mat[1,0]+conf_mat[1,1])\n",
    "    fpr = 1 - specificity\n",
    "    tpr = sensitivity\n",
    "    trr = (conf_mat[1,0]+conf_mat[0,1])/(conf_mat[1,0]+conf_mat[0,0]+conf_mat[0,1]+conf_mat[1,1])\n",
    "    \n",
    "    res_list.append({'Threshold': threshold,\n",
    "                      'Specificity': specificity, \n",
    "                      'Sensitivity': sensitivity, \n",
    "                      'FPR': fpr,\n",
    "                      'TPR': tpr,\n",
    "                      'TRR': trr})\n",
    "    fpr_list.append(fpr)\n",
    "    tpr_list.append(tpr)\n",
    "\n",
    "df_res = pd.DataFrame(res_list)\n",
    "plt.plot(df_res.Threshold, df_res.FPR)\n",
    "plt.xlabel('Threshold')\n",
    "plt.ylabel('False Positive Rate')\n",
    "plt.show()\n",
    "\n",
    "res_df = pd.DataFrame(res_list)\n",
    "# print(res_df.FPR.sum())"
   ]
  },
  {
   "cell_type": "code",
   "execution_count": 154,
   "metadata": {
    "collapsed": false
   },
   "outputs": [
    {
     "name": "stdout",
     "output_type": "stream",
     "text": [
      "Whole Data: Forward Selection Confusion matrix: \n",
      " [[801   2]\n",
      " [ 52   3]]\n",
      "Sensitivity:  0.0545454545455\n",
      "Specificity:  0.997509339975\n",
      "0.937062937063 \n",
      "\n",
      "   Accuracy           Analysis  Sensitivity  Specificity\n",
      "0  0.937063  Forward Selection     0.054545     0.997509\n"
     ]
    }
   ],
   "source": [
    "res=[]\n",
    "\n",
    "df.Biopsy_pred = res_logit.predict(df) \n",
    "df.Biopsy_pred_cat = pd.cut(df.Biopsy_pred, [0, .5, 1], labels = [0, 1])\n",
    "conf_mat = confusion_matrix(df.Biopsy, df.Biopsy_pred_cat)\n",
    "\n",
    "print('Whole Data: Forward Selection Confusion matrix: \\n', conf_mat)\n",
    "fwd_sensitivity = conf_mat[1,1]/(conf_mat[1,0] + conf_mat[1,1])\n",
    "print('Sensitivity: ', fwd_sensitivity)\n",
    "fwd_specificity = conf_mat[0,0]/(conf_mat[0,0] + conf_mat[0,1])\n",
    "print('Specificity: ', fwd_specificity)\n",
    "fwd_accuracy = (conf_mat[0,0]+conf_mat[1,1])/(conf_mat[0,0]+conf_mat[0,1]+conf_mat[1,0]+conf_mat[1,1])\n",
    "res.append({'Analysis': 'Forward Selection',\n",
    "               'Sensitivity': fwd_sensitivity,\n",
    "               'Specificity': fwd_specificity,\n",
    "               'Accuracy': fwd_accuracy})\n",
    "\n",
    "print(fwd_accuracy, '\\n')\n",
    "\n",
    "\n",
    "df_control = pd.DataFrame(res)\n",
    "print(df_control)"
   ]
  },
  {
   "cell_type": "code",
   "execution_count": 158,
   "metadata": {
    "collapsed": false
   },
   "outputs": [],
   "source": [
    "fwd_acc_whole = fwd_accuracy\n",
    "fwd_mse_whole = final.loc[final.test_mse.argmin(), 'test_mse']\n",
    "fwd_sensitivity_whole = fwd_sensitivity\n",
    "fwd_specificity_whole = fwd_specificity"
   ]
  },
  {
   "cell_type": "markdown",
   "metadata": {},
   "source": [
    "# Principal Component Regression: Whole dataset"
   ]
  },
  {
   "cell_type": "code",
   "execution_count": 159,
   "metadata": {
    "collapsed": false
   },
   "outputs": [],
   "source": [
    "df.columns = df.columns.str.replace('\\s+', '_')\n",
    "predictors = [col for col in df.columns if col not in ['Biopsy']]\n",
    "\n",
    "pred_i = [([np.arange(1, len(predictors)+1, 1)])]"
   ]
  },
  {
   "cell_type": "code",
   "execution_count": 160,
   "metadata": {
    "collapsed": false
   },
   "outputs": [],
   "source": [
    "X = df[predictors].values.T\n",
    "n_i, n_j = X.shape\n",
    "\n",
    "stds = np.std(X, axis=1)\n",
    "stds=np.repeat(np.reshape(stds, (-1,1)), n_j, axis=1)\n",
    "S = X/stds\n",
    "# print(np.std(S, axis=1))"
   ]
  },
  {
   "cell_type": "code",
   "execution_count": 163,
   "metadata": {
    "collapsed": false
   },
   "outputs": [
    {
     "data": {
      "text/html": [
       "<div>\n",
       "<table border=\"1\" class=\"dataframe\">\n",
       "  <thead>\n",
       "    <tr style=\"text-align: right;\">\n",
       "      <th></th>\n",
       "      <th>formula</th>\n",
       "      <th>mean_test_mse</th>\n",
       "      <th>mean_train_mse</th>\n",
       "      <th>pc_i</th>\n",
       "    </tr>\n",
       "  </thead>\n",
       "  <tbody>\n",
       "    <tr>\n",
       "      <th>0</th>\n",
       "      <td>Biopsy ~ 1 + PC1</td>\n",
       "      <td>0.059309</td>\n",
       "      <td>0.058741</td>\n",
       "      <td>1</td>\n",
       "    </tr>\n",
       "    <tr>\n",
       "      <th>1</th>\n",
       "      <td>Biopsy ~ 1 + PC1 + PC2</td>\n",
       "      <td>0.059188</td>\n",
       "      <td>0.058349</td>\n",
       "      <td>2</td>\n",
       "    </tr>\n",
       "    <tr>\n",
       "      <th>2</th>\n",
       "      <td>Biopsy ~ 1 + PC1 + PC2 + PC3</td>\n",
       "      <td>0.059984</td>\n",
       "      <td>0.058353</td>\n",
       "      <td>3</td>\n",
       "    </tr>\n",
       "    <tr>\n",
       "      <th>3</th>\n",
       "      <td>Biopsy ~ 1 + PC1 + PC2 + PC3 + PC4</td>\n",
       "      <td>0.060581</td>\n",
       "      <td>0.058130</td>\n",
       "      <td>4</td>\n",
       "    </tr>\n",
       "    <tr>\n",
       "      <th>4</th>\n",
       "      <td>Biopsy ~ 1 + PC1 + PC2 + PC3 + PC4 + PC5</td>\n",
       "      <td>0.060267</td>\n",
       "      <td>0.058143</td>\n",
       "      <td>5</td>\n",
       "    </tr>\n",
       "  </tbody>\n",
       "</table>\n",
       "</div>"
      ],
      "text/plain": [
       "                                    formula  mean_test_mse  mean_train_mse  \\\n",
       "0                          Biopsy ~ 1 + PC1       0.059309        0.058741   \n",
       "1                    Biopsy ~ 1 + PC1 + PC2       0.059188        0.058349   \n",
       "2              Biopsy ~ 1 + PC1 + PC2 + PC3       0.059984        0.058353   \n",
       "3        Biopsy ~ 1 + PC1 + PC2 + PC3 + PC4       0.060581        0.058130   \n",
       "4  Biopsy ~ 1 + PC1 + PC2 + PC3 + PC4 + PC5       0.060267        0.058143   \n",
       "\n",
       "   pc_i  \n",
       "0     1  \n",
       "1     2  \n",
       "2     3  \n",
       "3     4  \n",
       "4     5  "
      ]
     },
     "execution_count": 163,
     "metadata": {},
     "output_type": "execute_result"
    }
   ],
   "source": [
    "mean_mses=[]\n",
    "kf=KFold(n_splits=50, shuffle=True)\n",
    "pc_nums = [i+1 for i in range(5)]\n",
    "\n",
    "pcs = PCA(n_components=5).fit_transform(S.T)\n",
    "df_pcs = pd.DataFrame(pcs, columns=['PC'+str(i+1) for i in range(5)])\n",
    "df_pcs['Biopsy'] = df.Biopsy.values\n",
    "\n",
    "\n",
    "for pc_i in pc_nums:\n",
    "    train_mses = []\n",
    "    test_mses = []\n",
    "    \n",
    "    for train_i, test_i in kf.split(df_pcs):\n",
    "        df_train = df_pcs.iloc[train_i, :]\n",
    "        df_test = df_pcs.iloc[test_i, :]\n",
    "        \n",
    "        formula = 'Biopsy ~ 1'\n",
    "        for i in range(1, pc_i+1):\n",
    "            formula += (' + PC%d' % i)\n",
    "        \n",
    "        res_logit = smf.logit(formula=formula, data=df_train).fit(disp=0)\n",
    "        \n",
    "        #MSE train\n",
    "        train_pred = res_logit.predict(df_train)\n",
    "        mse_train = np.mean((train_pred - df_train.Biopsy)**2)\n",
    "        train_mses.append(mse_train)\n",
    "        \n",
    "        #MSE test\n",
    "        test_pred = res_logit.predict(df_test)\n",
    "        mse_test = np.mean((test_pred - df_test.Biopsy)**2)\n",
    "        test_mses.append(mse_test)\n",
    "    \n",
    "    mean_train_mse = np.mean(train_mses)\n",
    "    mean_test_mse = np.mean(test_mses)\n",
    "    \n",
    "    mean_mses.append({'pc_i': pc_i,\n",
    "                     'formula': formula,\n",
    "                     'mean_train_mse': mean_train_mse,\n",
    "                     'mean_test_mse': mean_test_mse})\n",
    "\n",
    "df_result = pd.DataFrame(mean_mses)\n",
    "df_result"
   ]
  },
  {
   "cell_type": "code",
   "execution_count": 164,
   "metadata": {
    "collapsed": false
   },
   "outputs": [
    {
     "data": {
      "text/plain": [
       "'Biopsy ~ 1 + PC1 + PC2'"
      ]
     },
     "execution_count": 164,
     "metadata": {},
     "output_type": "execute_result"
    }
   ],
   "source": [
    "best = df_result.loc[df_result.mean_test_mse.argmin()]\n",
    "best\n",
    "final_formula_pc = df_result.loc[df_result.mean_test_mse.argmin(), 'formula']\n",
    "final_formula_pc"
   ]
  },
  {
   "cell_type": "code",
   "execution_count": 165,
   "metadata": {
    "collapsed": false
   },
   "outputs": [
    {
     "data": {
      "image/png": "[encoded data removed]",
      "text/plain": [
       "<matplotlib.figure.Figure at 0x11414f358>"
      ]
     },
     "metadata": {},
     "output_type": "display_data"
    }
   ],
   "source": [
    "PC1 = pcs[:,0]\n",
    "plt.scatter(df.Biopsy, PC1)\n",
    "plt.xlabel('Biopsy')\n",
    "plt.ylabel('PC1')\n",
    "plt.show()"
   ]
  },
  {
   "cell_type": "code",
   "execution_count": 166,
   "metadata": {
    "collapsed": false,
    "scrolled": true
   },
   "outputs": [
    {
     "data": {
      "image/png": "[encoded data removed]",
      "text/plain": [
       "<matplotlib.figure.Figure at 0x113e369b0>"
      ]
     },
     "metadata": {},
     "output_type": "display_data"
    }
   ],
   "source": [
    "PC2 = pcs[:,1]\n",
    "plt.scatter(df.Biopsy, PC2)\n",
    "plt.xlabel('Biopsy')\n",
    "plt.ylabel('PC2')\n",
    "plt.show()"
   ]
  },
  {
   "cell_type": "code",
   "execution_count": 168,
   "metadata": {
    "collapsed": false
   },
   "outputs": [
    {
     "data": {
      "image/png": "[encoded data removed]",
      "text/plain": [
       "<matplotlib.figure.Figure at 0x113e73240>"
      ]
     },
     "metadata": {},
     "output_type": "display_data"
    }
   ],
   "source": [
    "plt.plot(df_result.pc_i, df_result.mean_train_mse, label='Training set')\n",
    "plt.plot(df_result.pc_i, df_result.mean_test_mse, label='Test set', color='pink')\n",
    "\n",
    "plt.xlabel('Number of principal components')\n",
    "plt.ylabel('MSE')\n",
    "plt.legend()\n",
    "plt.show()\n"
   ]
  },
  {
   "cell_type": "code",
   "execution_count": 170,
   "metadata": {
    "collapsed": false
   },
   "outputs": [
    {
     "name": "stdout",
     "output_type": "stream",
     "text": [
      "Principal Component Confusion matrix: \n",
      " [[802   1]\n",
      " [ 55   0]]\n",
      "Sensitivity:  0.0\n",
      "Specificity:  0.998754669988\n",
      "Accuracy: 0.934731934732\n"
     ]
    }
   ],
   "source": [
    "results = smf.logit(formula=final_formula_pc, data=df).fit(disp=0)\n",
    "df.Biopsy_pred = results.predict(df)\n",
    "df.Biopsy_pred_cat = pd.cut(df.Biopsy_pred, [0, .5, 1], labels = [0, 1])\n",
    "conf_mat = confusion_matrix(df.Biopsy, df.Biopsy_pred_cat)\n",
    "\n",
    "\n",
    "print('Principal Component Confusion matrix: \\n', conf_mat)\n",
    "pc_sensitivity_whole = conf_mat[1,1]/(conf_mat[1,0] + conf_mat[1,1])\n",
    "print('Sensitivity: ', pc_sensitivity_whole)\n",
    "pc_specificity_whole = conf_mat[0,0]/(conf_mat[0,0] + conf_mat[0,1])\n",
    "print('Specificity: ', pc_specificity_whole)\n",
    "pc_accuracy_whole = (conf_mat[0,0]+conf_mat[1,1])/(conf_mat[0,0]+conf_mat[0,1]+conf_mat[1,0]+conf_mat[1,1])\n",
    "\n",
    "print('Accuracy:', pc_accuracy_whole)"
   ]
  },
  {
   "cell_type": "code",
   "execution_count": 177,
   "metadata": {
    "collapsed": false
   },
   "outputs": [],
   "source": [
    "pc_mse_whole = df_result.loc[df_result.mean_test_mse.argmin(), 'mean_test_mse']"
   ]
  },
  {
   "cell_type": "markdown",
   "metadata": {},
   "source": [
    "# Principal Component Analysis: Controlled"
   ]
  },
  {
   "cell_type": "code",
   "execution_count": 178,
   "metadata": {
    "collapsed": false
   },
   "outputs": [
    {
     "name": "stdout",
     "output_type": "stream",
     "text": [
      "Age:  79.4265221018\n",
      "Number_of_sexual_partners:  1.46360198977\n",
      "First_sexual_intercourse:  9.4953994221\n",
      "Num_of_pregnancies:  2.05595134375\n",
      "Smokes:  0.131416051312\n",
      "Smokes_years:  34.6505892921\n",
      "Smokes_packsPeryear:  15.5335303652\n",
      "STDs_Number_of_diagnosis:  0.105170975813\n",
      "DxCancer:  0.0680567139283\n",
      "DxCIN:  0.0267723102585\n",
      "DxHPV:  0.0680567139283\n",
      "Dx:  0.0680567139283\n"
     ]
    }
   ],
   "source": [
    "#Check which columns have 0 variance\n",
    "df1 = df.loc[df.loc[df.Biopsy==0].head(55).index]\n",
    "df2 = df.loc[df.loc[df.Biopsy==1].head(100).index]\n",
    "frames = [df1, df2]\n",
    "new_df = pd.concat(frames)\n",
    "\n",
    "x_cols = [col for col in new_df.columns if col not in ['Biopsy']]\n",
    "\n",
    "for x_col in x_cols:\n",
    "    print(x_col + \": \", new_df[x_col].var())\n",
    "\n",
    "new_df.drop('Dx', 1, inplace=True)\n",
    "new_df.drop('DxHPV', 1, inplace=True)\n",
    "new_df.drop('DxCIN', 1, inplace=True)\n",
    "new_df.drop('DxCancer', 1, inplace=True)\n",
    "new_df.drop('STDs_Number_of_diagnosis', 1, inplace=True)\n",
    "x_cols = [col for col in new_df.columns if col not in ['Biopsy']]\n",
    "x_cols\n",
    "\n",
    "X = new_df[x_cols].values.T\n",
    "n_i, n_j = X.shape\n",
    "\n",
    "stds = np.std(X, axis=1)\n",
    "stds=np.repeat(np.reshape(stds, (-1,1)), n_j, axis=1)\n",
    "S = X/stds\n",
    "# print(np.std(S, axis=1))"
   ]
  },
  {
   "cell_type": "code",
   "execution_count": 181,
   "metadata": {
    "collapsed": false
   },
   "outputs": [
    {
     "name": "stdout",
     "output_type": "stream",
     "text": [
      "Biopsy ~ 1 + PC1 + PC2 \n",
      "MSE for control:  0.181616137195\n"
     ]
    }
   ],
   "source": [
    "mean_mses=[]\n",
    "kf=KFold(n_splits=50, shuffle=True)\n",
    "pc_nums = [i+1 for i in range(5)]\n",
    "\n",
    "pcs = PCA(n_components=5).fit_transform(S.T)\n",
    "new_df_pcs = pd.DataFrame(pcs, columns=['PC'+str(i+1) for i in range(5)])\n",
    "new_df_pcs['Biopsy'] = new_df.Biopsy.values\n",
    "\n",
    "\n",
    "\n",
    "for pc_i in pc_nums:\n",
    "    train_mses = []\n",
    "    test_mses = []\n",
    "    \n",
    "    for train_i, test_i in kf.split(new_df_pcs):\n",
    "        df_train = new_df_pcs.iloc[train_i, :]\n",
    "        df_test = new_df_pcs.iloc[test_i, :]\n",
    "        \n",
    "        formula = 'Biopsy ~ 1'\n",
    "        for i in range(1, pc_i+1):\n",
    "            formula += (' + PC%d' % i)\n",
    "        \n",
    "        res_logit = smf.logit(formula=formula, data=df_train).fit(disp=0)\n",
    "        \n",
    "        #MSE train\n",
    "        train_pred = res_logit.predict(df_train)\n",
    "        mse_train = np.mean((train_pred - df_train.Biopsy)**2)\n",
    "        train_mses.append(mse_train)\n",
    "        \n",
    "        #MSE test\n",
    "        test_pred = res_logit.predict(df_test)\n",
    "        mse_test = np.mean((test_pred - df_test.Biopsy)**2)\n",
    "        test_mses.append(mse_test)\n",
    "    \n",
    "    mean_train_mse = np.mean(train_mses)\n",
    "    mean_test_mse = np.mean(test_mses)\n",
    "    \n",
    "    mean_mses.append({'pc_i': pc_i,\n",
    "                     'formula': formula,\n",
    "                     'mean_train_mse': mean_train_mse,\n",
    "                     'mean_test_mse': mean_test_mse})\n",
    "\n",
    "df_result = pd.DataFrame(mean_mses)\n",
    "# print(df_result)\n",
    "final_formula_pc = df_result.loc[df_result.mean_test_mse.argmin(), 'formula']\n",
    "pc_mse_control = df_result.loc[df_result.mean_test_mse.argmin(), 'mean_test_mse']\n",
    "print(final_formula_pc, '\\nMSE for control: ', pc_mse_control)\n",
    "\n"
   ]
  },
  {
   "cell_type": "code",
   "execution_count": 182,
   "metadata": {
    "collapsed": false
   },
   "outputs": [
    {
     "data": {
      "image/png": "[encoded data removed]",
      "text/plain": [
       "<matplotlib.figure.Figure at 0x115909c88>"
      ]
     },
     "metadata": {},
     "output_type": "display_data"
    }
   ],
   "source": [
    "plt.plot(df_result.pc_i, df_result.mean_test_mse, label='test set')\n",
    "plt.plot(df_result.pc_i, df_result.mean_train_mse, label='training set')\n",
    "plt.xlabel('Number of PCs used')\n",
    "plt.ylabel('Mean squared error')\n",
    "plt.legend()\n",
    "plt.show()"
   ]
  },
  {
   "cell_type": "code",
   "execution_count": 183,
   "metadata": {
    "collapsed": false
   },
   "outputs": [
    {
     "name": "stdout",
     "output_type": "stream",
     "text": [
      "Controlled Data: PC Confusion matrix: \n",
      " [[9 1]\n",
      " [3 9]]\n",
      "Sensitivity:  0.75\n",
      "Specificity:  0.9\n",
      "0.818181818182 \n",
      "\n",
      "Accuracy: 0.818181818182\n"
     ]
    }
   ],
   "source": [
    "from sklearn.cross_validation import train_test_split\n",
    "from sklearn.linear_model import LogisticRegression\n",
    "\n",
    "X = new_df.iloc[:, 0:6]\n",
    "y = new_df.iloc[:,7]\n",
    "\n",
    "Xtrain, Xtest, ytrain, ytest = train_test_split(X, y, test_size = 0.2)\n",
    "\n",
    "pca = PCA(n_components=2)\n",
    "Xtrain = pca.fit_transform(Xtrain)\n",
    "Xtest = pca.transform(Xtest)\n",
    "\n",
    "model = LogisticRegression(random_state=1)\n",
    "model.fit(Xtrain, ytrain)\n",
    "ypred = model.predict(Xtest)\n",
    "\n",
    "conf_mat = confusion_matrix(ytest,ypred)\n",
    "print('Controlled Data: PC Confusion matrix: \\n', conf_mat)\n",
    "\n",
    "pc_sensitivity_control = conf_mat[1,1]/(conf_mat[1,0] + conf_mat[1,1])\n",
    "print('Sensitivity: ', pc_sensitivity_control)\n",
    "pc_specificity_control = conf_mat[0,0]/(conf_mat[0,0] + conf_mat[0,1])\n",
    "print('Specificity: ', pc_specificity_control)\n",
    "pc_acc_control = (conf_mat[0,0]+conf_mat[1,1])/(conf_mat[0,0]+conf_mat[0,1]+conf_mat[1,0]+conf_mat[1,1])\n",
    "\n",
    "\n",
    "print(pc_acc_control, '\\n')\n",
    "print('Accuracy:', pc_acc_control)"
   ]
  },
  {
   "cell_type": "markdown",
   "metadata": {},
   "source": [
    "# Results"
   ]
  },
  {
   "cell_type": "code",
   "execution_count": 102,
   "metadata": {
    "collapsed": false
   },
   "outputs": [
    {
     "data": {
      "text/plain": [
       "55"
      ]
     },
     "execution_count": 102,
     "metadata": {},
     "output_type": "execute_result"
    }
   ],
   "source": [
    "df.Biopsy.sum() "
   ]
  },
  {
   "cell_type": "markdown",
   "metadata": {},
   "source": [
    "There are only 55 examples of cervical cancer patients."
   ]
  },
  {
   "cell_type": "markdown",
   "metadata": {},
   "source": [
    "With the controlled data (all 55 examples of cervical cancer patients and 55 examples of non-cervical cancer patients), the accuracy is lower than by using the whole set. There are  too few examples of patients with cervical cancer, so the models which use the whole dataset get a high accuracy of ~93% by classifying all patients with no cancer. Using the control set thus does a better classification job despite its lower accuracies."
   ]
  },
  {
   "cell_type": "code",
   "execution_count": 202,
   "metadata": {
    "collapsed": false
   },
   "outputs": [
    {
     "data": {
      "text/html": [
       "<div>\n",
       "<table border=\"1\" class=\"dataframe\">\n",
       "  <thead>\n",
       "    <tr style=\"text-align: right;\">\n",
       "      <th></th>\n",
       "      <th>Accuracy</th>\n",
       "      <th>MSE</th>\n",
       "      <th>Method</th>\n",
       "      <th>Sensitivity</th>\n",
       "      <th>Specificity</th>\n",
       "    </tr>\n",
       "  </thead>\n",
       "  <tbody>\n",
       "    <tr>\n",
       "      <th>0</th>\n",
       "      <td>0.937063</td>\n",
       "      <td>0.058662</td>\n",
       "      <td>Forward Selection whole data</td>\n",
       "      <td>0.054545</td>\n",
       "      <td>0.997509</td>\n",
       "    </tr>\n",
       "    <tr>\n",
       "      <th>1</th>\n",
       "      <td>0.818182</td>\n",
       "      <td>0.172670</td>\n",
       "      <td>Forward selection controlled data</td>\n",
       "      <td>0.727273</td>\n",
       "      <td>0.909091</td>\n",
       "    </tr>\n",
       "    <tr>\n",
       "      <th>2</th>\n",
       "      <td>0.934732</td>\n",
       "      <td>0.059188</td>\n",
       "      <td>Principal Component Analysis whole data</td>\n",
       "      <td>0.000000</td>\n",
       "      <td>0.998755</td>\n",
       "    </tr>\n",
       "    <tr>\n",
       "      <th>3</th>\n",
       "      <td>0.818182</td>\n",
       "      <td>0.181616</td>\n",
       "      <td>Principal Component Analysis controlled data</td>\n",
       "      <td>0.750000</td>\n",
       "      <td>0.900000</td>\n",
       "    </tr>\n",
       "  </tbody>\n",
       "</table>\n",
       "</div>"
      ],
      "text/plain": [
       "   Accuracy       MSE                                        Method  \\\n",
       "0  0.937063  0.058662                  Forward Selection whole data   \n",
       "1  0.818182  0.172670             Forward selection controlled data   \n",
       "2  0.934732  0.059188       Principal Component Analysis whole data   \n",
       "3  0.818182  0.181616  Principal Component Analysis controlled data   \n",
       "\n",
       "   Sensitivity  Specificity  \n",
       "0     0.054545     0.997509  \n",
       "1     0.727273     0.909091  \n",
       "2     0.000000     0.998755  \n",
       "3     0.750000     0.900000  "
      ]
     },
     "execution_count": 202,
     "metadata": {},
     "output_type": "execute_result"
    }
   ],
   "source": [
    "Method = np.array(['Forward Selection whole data', 'Forward selection controlled data', \n",
    "                  'Principal Component Analysis whole data', 'Principal Component Analysis controlled data'])\n",
    "Accuracy = np.array([fwd_acc_whole, fwd_acc_control, pc_acc_whole, pc_acc_control])\n",
    "\n",
    "MSE = np.array([fwd_mse_whole, fwd_mse_control, pc_mse_whole, pc_mse_control])\n",
    "Sensitivity = np.array([fwd_sensitivity_whole, fwd_sensitivity_control, pc_sensitivity_whole, pc_sensitivity_control])\n",
    "Specificity = np.array([fwd_specificity_whole, fwd_specificity_control, pc_specificity_whole, pc_specificity_control])\n",
    "\n",
    "final_df = []\n",
    "final_df = ({'Method': Method, 'MSE': MSE, \n",
    "             'Accuracy': Accuracy,\n",
    "                'Sensitivity': Sensitivity,\n",
    "                'Specificity': Specificity})\n",
    "final_df = pd.DataFrame(final_df)\n",
    "final_df"
   ]
  }
 ],
 "metadata": {
  "kernelspec": {
   "display_name": "Python 3",
   "language": "python",
   "name": "python3"
  },
  "language_info": {
   "codemirror_mode": {
    "name": "ipython",
    "version": 3
   },
   "file_extension": ".py",
   "mimetype": "text/x-python",
   "name": "python",
   "nbconvert_exporter": "python",
   "pygments_lexer": "ipython3",
   "version": "3.6.0"
  }
 },
 "nbformat": 4,
 "nbformat_minor": 2
}
